{
  "cells": [
    {
      "cell_type": "code",
      "execution_count": null,
      "metadata": {
        "colab": {
          "base_uri": "https://localhost:8080/"
        },
        "id": "LYpak-faH-Zk",
        "outputId": "fab8fbf0-c26f-4e9a-fb68-752015aa6b2c"
      },
      "outputs": [
        {
          "name": "stdout",
          "output_type": "stream",
          "text": [
            "Found 996 images belonging to 3 classes.\n",
            "Found 248 images belonging to 3 classes.\n",
            "{'WIDER_train': 0, 'WIDER_val': 1, 'wider_face_split': 2}\n"
          ]
        }
      ],
      "source": [
        "import tensorflow as tf\n",
        "import tensorflow_datasets as tfds\n",
        "\n",
        "import os\n",
        "import numpy as np\n",
        "import matplotlib.pyplot as plt\n",
        "\n",
        "base_dir = \"/content/drive/MyDrive/colabdata/WIDER\"\n",
        "\n",
        "# minimize the resolution of the images without loosing the 'Features'\n",
        "IMAGE_SIZE = 224\n",
        "\n",
        "# batch size - koliko epoch-ov\n",
        "BATCH_SIZE = 5\n",
        "\n",
        "# make data generator, rescale the images\n",
        "data_generator = tf.keras.preprocessing.image.ImageDataGenerator(\n",
        "    rescale=1. / 255,\n",
        "    validation_split=0.2)\n",
        "\n",
        "# use data generator split data into train and validation sets\n",
        "train_generator = data_generator.flow_from_directory(\n",
        "    base_dir,\n",
        "    target_size=(IMAGE_SIZE, IMAGE_SIZE),\n",
        "    batch_size=BATCH_SIZE,\n",
        "    subset='training')\n",
        "\n",
        "val_generator = data_generator.flow_from_directory(\n",
        "    base_dir,\n",
        "    target_size=(IMAGE_SIZE, IMAGE_SIZE),\n",
        "    batch_size=BATCH_SIZE,\n",
        "    subset='validation')\n",
        "\n",
        "# Trigger a training generator for all the batches\n",
        "for image_batch, label_batch in train_generator:\n",
        "    break\n",
        "\n",
        "# print classification labels\n",
        "print(train_generator.class_indices)\n",
        "\n",
        "# Create file with all names \n",
        "labels = '\\n'.join(sorted(train_generator.class_indices.keys()))\n",
        "with open('labels.txt', 'w') as f:\n",
        "    f.write(labels)"
      ]
    },
    {
      "cell_type": "code",
      "execution_count": null,
      "metadata": {
        "id": "PWG-FBw1IalR"
      },
      "outputs": [],
      "source": [
        "# MobileNetV2 is a CNN architecture that seeks to perform well on mobile devices. \n",
        "# based on an inverted residual structure where the residual connections are between the bottleneck layers. \n",
        "# The intermediate expansion layer uses lightweight depthwise convolutions to filter features as a source of non-linearity. \n",
        "# the architecture of MobileNetV2 contains the initial fully convolution layer with 32 filters, followed by 19 residual bottleneck layers.\n",
        "# bottleneck layer -> transformation layers -> bottleneck output\n",
        "# + shortcut med bottleneck layerli\n",
        "\n",
        "\n",
        "# Resolution of images\n",
        "IMG_SHAPE = (IMAGE_SIZE, IMAGE_SIZE, 3)\n",
        "\n",
        "# Create base model from  pre-trained model MobileNet V2\n",
        "# The first layer is redundant for classification of features not required\n",
        "# Hence, creating a model with EXCLUDING the top layer\n",
        "# \"bottleneck layer\". fully-connected layers will be too specialized to the task the network was trained on\n",
        "base_model = tf.keras.applications.MobileNetV2(input_shape=IMG_SHAPE,\n",
        "                                               include_top=False,\n",
        "                                               weights='imagenet')\n",
        "\n",
        "# We will be tweaking the model with our own classifications\n",
        "# don't want our tweaks to affect the layers in the 'base_model'\n",
        "# disable base_model training\n",
        "base_model.trainable = False"
      ]
    },
    {
      "cell_type": "code",
      "execution_count": null,
      "metadata": {
        "colab": {
          "base_uri": "https://localhost:8080/"
        },
        "id": "ruvXtISZIWQH",
        "outputId": "20350765-bce1-4054-f98d-29b43f02913c"
      },
      "outputs": [
        {
          "name": "stdout",
          "output_type": "stream",
          "text": [
            "Model: \"sequential_2\"\n",
            "_________________________________________________________________\n",
            " Layer (type)                Output Shape              Param #   \n",
            "=================================================================\n",
            " mobilenetv2_1.00_224 (Funct  (None, 7, 7, 1280)       2257984   \n",
            " ional)                                                          \n",
            "                                                                 \n",
            " conv2d_2 (Conv2D)           (None, 5, 5, 32)          368672    \n",
            "                                                                 \n",
            " dropout_2 (Dropout)         (None, 5, 5, 32)          0         \n",
            "                                                                 \n",
            " global_average_pooling2d_2   (None, 32)               0         \n",
            " (GlobalAveragePooling2D)                                        \n",
            "                                                                 \n",
            " dense_2 (Dense)             (None, 3)                 99        \n",
            "                                                                 \n",
            "=================================================================\n",
            "Total params: 2,626,755\n",
            "Trainable params: 368,771\n",
            "Non-trainable params: 2,257,984\n",
            "_________________________________________________________________\n",
            "Number of trainable variables = 4\n",
            "Epoch 1/10\n",
            "200/200 [==============================] - 514s 3s/step - loss: 0.9506 - accuracy: 0.7018 - val_loss: 0.4964 - val_accuracy: 0.8024\n",
            "Epoch 2/10\n",
            "200/200 [==============================] - 47s 237ms/step - loss: 0.4935 - accuracy: 0.7851 - val_loss: 0.5001 - val_accuracy: 0.8024\n",
            "Epoch 3/10\n",
            "200/200 [==============================] - 47s 235ms/step - loss: 0.4212 - accuracy: 0.8183 - val_loss: 0.6120 - val_accuracy: 0.8024\n",
            "Epoch 4/10\n",
            "200/200 [==============================] - 47s 233ms/step - loss: 0.3747 - accuracy: 0.8363 - val_loss: 0.5623 - val_accuracy: 0.7742\n",
            "Epoch 5/10\n",
            "200/200 [==============================] - 46s 229ms/step - loss: 0.3176 - accuracy: 0.8695 - val_loss: 0.6464 - val_accuracy: 0.7702\n",
            "Epoch 6/10\n",
            "200/200 [==============================] - 47s 233ms/step - loss: 0.2907 - accuracy: 0.8785 - val_loss: 0.6943 - val_accuracy: 0.7863\n",
            "Epoch 7/10\n",
            "200/200 [==============================] - 47s 233ms/step - loss: 0.2359 - accuracy: 0.9076 - val_loss: 0.8499 - val_accuracy: 0.5444\n",
            "Epoch 8/10\n",
            "200/200 [==============================] - 46s 230ms/step - loss: 0.1804 - accuracy: 0.9307 - val_loss: 0.8215 - val_accuracy: 0.7137\n",
            "Epoch 9/10\n",
            "200/200 [==============================] - 46s 231ms/step - loss: 0.1436 - accuracy: 0.9458 - val_loss: 0.9488 - val_accuracy: 0.6935\n",
            "Epoch 10/10\n",
            "200/200 [==============================] - 46s 232ms/step - loss: 0.1127 - accuracy: 0.9588 - val_loss: 1.1689 - val_accuracy: 0.7944\n"
          ]
        }
      ],
      "source": [
        "# Add classification head\n",
        "\n",
        "model = tf.keras.Sequential([\n",
        "    base_model,  # base model\n",
        "    # transformation layers\n",
        "    tf.keras.layers.Conv2D(32, 3, activation='relu'),  # 2D Convolution network\n",
        "    tf.keras.layers.Dropout(0.2),  # 20% of nodes will be dropped out\n",
        "    tf.keras.layers.GlobalAveragePooling2D(),  # Pooling for data size reduction by taking an average of the adjacent nodes\n",
        "    # main dense layer\n",
        "    tf.keras.layers.Dense(3, activation='softmax')  # takes input from all prev nodes and gives input to all next nodes. Densely connected\n",
        "])\n",
        "\n",
        "# compile the model\n",
        "model.compile(optimizer=tf.keras.optimizers.Adam(),  # BP optimizer [Adam/Xavier algorithms help in Optimization]\n",
        "              loss='categorical_crossentropy',  # Weights are changed depending upon the 'LOSS'\n",
        "              metrics=['accuracy'])  # On basis of which parameter our loss will be calculated? here we are going for accuracy\n",
        "\n",
        "model.summary()\n",
        "\n",
        "print('Number of trainable variables = {}'.format(len(model.trainable_variables)))\n",
        "\n",
        "# train the model in 10 iterations\n",
        "epochs = 10\n",
        "\n",
        "# training \n",
        "history = model.fit(train_generator,\n",
        "                    epochs=epochs,\n",
        "                    validation_data=val_generator)"
      ]
    },
    {
      "cell_type": "code",
      "execution_count": null,
      "metadata": {
        "colab": {
          "base_uri": "https://localhost:8080/",
          "height": 317
        },
        "id": "6IqGsmBlIUaj",
        "outputId": "80f89c27-d56c-4d42-ab31-ee2596cdb8c5"
      },
      "outputs": [
        {
          "name": "stdout",
          "output_type": "stream",
          "text": [
            "[0.8024193644523621, 0.8024193644523621, 0.8024193644523621, 0.774193525314331, 0.7701612710952759, 0.7862903475761414, 0.5443548560142517, 0.7137096524238586, 0.6935483813285828, 0.7943548560142517]\n",
            "[0.9505585432052612, 0.49353495240211487, 0.42120370268821716, 0.3746967613697052, 0.317623108625412, 0.2906886041164398, 0.2358655333518982, 0.18040429055690765, 0.14360065758228302, 0.11269036680459976]\n"
          ]
        },
        {
          "data": {
            "image/png": "[encoded data removed]",
            "text/plain": [
              "<Figure size 576x576 with 1 Axes>"
            ]
          },
          "metadata": {
            "needs_background": "light"
          },
          "output_type": "display_data"
        }
      ],
      "source": [
        "# Visualizing the Learning curves \n",
        "\n",
        "acc = history.history['accuracy']\n",
        "val_acc = history.history['val_accuracy']\n",
        "\n",
        "loss = history.history['loss']\n",
        "val_loss = history.history['val_loss']\n",
        "\n",
        "plt.figure(figsize=(8, 8))\n",
        "plt.subplot(2, 1, 1)\n",
        "plt.plot(acc, label='Training Accuracy')\n",
        "plt.plot(val_acc, label='Validation Accuracy')\n",
        "plt.legend(loc='lower right')\n",
        "plt.ylabel('Accuracy')\n",
        "plt.ylim([min(plt.ylim()), 1])\n",
        "plt.title('Training and Validation Accuracy')\n",
        "\n",
        "# plt.subplot(2, 1, 2)\n",
        "# plt.plot(loss, label='Training Loss')\n",
        "# plt.plot(val_loss, label='Validation Loss')\n",
        "# plt.legend(loc='upper right')\n",
        "# plt.ylabel('Cross Entropy')\n",
        "# plt.ylim([0, 1.0])\n",
        "# plt.title('Training and Validation Loss')\n",
        "# plt.xlabel('epoch')\n",
        "# plt.show()\n",
        "print(val_acc)\n",
        "print(loss)"
      ]
    }
  ],
  "metadata": {
    "colab": {
      "collapsed_sections": [],
      "name": "Untitled0.ipynb",
      "provenance": []
    },
    "kernelspec": {
      "display_name": "Python 3",
      "name": "python3"
    },
    "language_info": {
      "name": "python"
    }
  },
  "nbformat": 4,
  "nbformat_minor": 0
}
